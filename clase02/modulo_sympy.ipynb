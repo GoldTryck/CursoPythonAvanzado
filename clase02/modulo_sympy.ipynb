{
 "cells": [
  {
   "cell_type": "markdown",
   "metadata": {},
   "source": [
    "# Módulo `SymPy` en Python\n",
    "\n",
    "## 1. Introducción\n",
    "\n",
    "SymPy es una biblioteca de Python diseñada para realizar matemáticas simbólicas. Esto significa que SymPy puede manipular expresiones algebraicas y funciones simbólicamente, realizar cálculos exactos, resolver ecuaciones simbólicamente, y mucho más.\n",
    "\n",
    "En cálculo simbólico, los números y otros objetos matemáticos se representan simbólicamente, en lugar de como valores numéricos específicos. Esto permite realizar manipulaciones algebraicas, simplificaciones y otras operaciones simbólicas.\n",
    "\n",
    "## 2. Instalación\n",
    "\n",
    "Para instalar SymPy crearemos un entorno virtual, lo activaremos y realizaremos la instalación mediante el gestor de paquetes de Python `pip` :\n",
    "\n",
    "- En una terminal:\n",
    "\n",
    "    ```zsh\n",
    "    python3 -m venv ~/sympy_env\n",
    "    ``` \n",
    "\n",
    "- Activar el entorno virtual en jupyter:\n",
    "\n",
    "    `ctrl + shift + p` \n",
    "    Python: Select interpreter\n",
    "    Enter interpreter path...\n",
    "    ~/sympy_env/bin/python3\n",
    "- Instalar sympy:"
   ]
  },
  {
   "cell_type": "code",
   "execution_count": null,
   "metadata": {},
   "outputs": [],
   "source": [
    "!pip install sympy"
   ]
  },
  {
   "cell_type": "markdown",
   "metadata": {},
   "source": [
    "- Importar sympy"
   ]
  },
  {
   "cell_type": "code",
   "execution_count": 6,
   "metadata": {},
   "outputs": [],
   "source": [
    "import sympy as sp"
   ]
  },
  {
   "cell_type": "markdown",
   "metadata": {},
   "source": [
    "## 3. Variables y expresiones\n"
   ]
  },
  {
   "cell_type": "code",
   "execution_count": 9,
   "metadata": {},
   "outputs": [],
   "source": [
    "# Definir una variable simbólica 'x'\n",
    "n = sp.symbols('n')\n",
    "# Definir variables simbólicas\n",
    "x, y, z = sp.symbols('x y z')"
   ]
  },
  {
   "cell_type": "markdown",
   "metadata": {},
   "source": [
    "- Propiedades de las Variables Simbólicas\n",
    "\n",
    "    Las variables simbólicas en SymPy pueden representar números reales, complejos, enteros, entre otros. Puedes especificar estas propiedades al crear las variables:"
   ]
  },
  {
   "cell_type": "code",
   "execution_count": 10,
   "metadata": {},
   "outputs": [],
   "source": [
    "x = sp.symbols('x', real=True)  # Define 'x' como un número real\n",
    "y = sp.symbols('y', integer=True)  # Define 'y' como un número entero\n"
   ]
  },
  {
   "cell_type": "markdown",
   "metadata": {},
   "source": [
    "- Expresiones Simbólicas:\n",
    "\n",
    "    Una vez que tienes tus variables simbólicas, puedes usarlas para crear expresiones simbólicas.\n",
    "    \n",
    "    Las expresiones en SymPy son objetos que representan fórmulas matemáticas."
   ]
  },
  {
   "cell_type": "code",
   "execution_count": 13,
   "metadata": {},
   "outputs": [
    {
     "data": {
      "text/latex": [
       "$\\displaystyle x + 2 y + z$"
      ],
      "text/plain": [
       "x + 2*y + z"
      ]
     },
     "metadata": {},
     "output_type": "display_data"
    },
    {
     "data": {
      "text/latex": [
       "$\\displaystyle x^{2} - \\log{\\left(z \\right)} + \\sin{\\left(y \\right)}$"
      ],
      "text/plain": [
       "x**2 - log(z) + sin(y)"
      ]
     },
     "metadata": {},
     "output_type": "display_data"
    }
   ],
   "source": [
    "# Crear expresiones\n",
    "expr1 = x + 2*y + z\n",
    "expr2 = x**2 + sp.sin(y) - sp.log(z)\n",
    "\n",
    "# Mostrar las expresiones\n",
    "display(expr1)\n",
    "display(expr2)"
   ]
  },
  {
   "cell_type": "markdown",
   "metadata": {},
   "source": [
    "## 4. Operaciones Aritméticas"
   ]
  },
  {
   "cell_type": "code",
   "execution_count": 15,
   "metadata": {},
   "outputs": [
    {
     "data": {
      "text/latex": [
       "$\\displaystyle x^{2} + x + 2 y + z - \\log{\\left(z \\right)} + \\sin{\\left(y \\right)}$"
      ],
      "text/plain": [
       "x**2 + x + 2*y + z - log(z) + sin(y)"
      ]
     },
     "metadata": {},
     "output_type": "display_data"
    },
    {
     "data": {
      "text/latex": [
       "$\\displaystyle - x^{2} + x + 2 y + z + \\log{\\left(z \\right)} - \\sin{\\left(y \\right)}$"
      ],
      "text/plain": [
       "-x**2 + x + 2*y + z + log(z) - sin(y)"
      ]
     },
     "metadata": {},
     "output_type": "display_data"
    },
    {
     "data": {
      "text/latex": [
       "$\\displaystyle \\left(x + 2 y + z\\right) \\left(x^{2} - \\log{\\left(z \\right)} + \\sin{\\left(y \\right)}\\right)$"
      ],
      "text/plain": [
       "(x + 2*y + z)*(x**2 - log(z) + sin(y))"
      ]
     },
     "metadata": {},
     "output_type": "display_data"
    },
    {
     "data": {
      "text/latex": [
       "$\\displaystyle \\frac{x + 2 y + z}{x^{2} - \\log{\\left(z \\right)} + \\sin{\\left(y \\right)}}$"
      ],
      "text/plain": [
       "(x + 2*y + z)/(x**2 - log(z) + sin(y))"
      ]
     },
     "metadata": {},
     "output_type": "display_data"
    }
   ],
   "source": [
    "# Sumar, restar, multiplicar y dividir expresiones\n",
    "sum_expr = expr1 + expr2\n",
    "diff_expr = expr1 - expr2\n",
    "prod_expr = expr1 * expr2\n",
    "div_expr = expr1 / expr2\n",
    "\n",
    "# Mostrar los resultados\n",
    "display(sum_expr)\n",
    "display(diff_expr)\n",
    "display(prod_expr)\n",
    "display(div_expr)\n"
   ]
  },
  {
   "cell_type": "markdown",
   "metadata": {},
   "source": [
    "## 5. Calculo simbólico\n",
    "\n",
    "Puedes realizar varias operaciones con estas expresiones, tales como simplificación, expansión, factorización, derivación e integración.\n",
    "\n",
    "- Simplicifación:"
   ]
  },
  {
   "cell_type": "code",
   "execution_count": 16,
   "metadata": {},
   "outputs": [
    {
     "data": {
      "text/latex": [
       "$\\displaystyle \\left(x + y\\right)^{2}$"
      ],
      "text/plain": [
       "(x + y)**2"
      ]
     },
     "metadata": {},
     "output_type": "display_data"
    }
   ],
   "source": [
    "# Crear expresiones simbólicas\n",
    "expr4 = x + 2*y\n",
    "expr5 = x**2 + y**2\n",
    "expr6 = (x + y)**2\n",
    "\n",
    "simplified_expr = sp.simplify(expr6)\n",
    "display(simplified_expr)"
   ]
  },
  {
   "cell_type": "markdown",
   "metadata": {},
   "source": [
    "- Expansión:"
   ]
  },
  {
   "cell_type": "code",
   "execution_count": 17,
   "metadata": {},
   "outputs": [
    {
     "data": {
      "text/latex": [
       "$\\displaystyle x^{2} + 2 x y + y^{2}$"
      ],
      "text/plain": [
       "x**2 + 2*x*y + y**2"
      ]
     },
     "metadata": {},
     "output_type": "display_data"
    }
   ],
   "source": [
    "expanded_expr = sp.expand((x + y)**2) \n",
    "display(expanded_expr)"
   ]
  },
  {
   "cell_type": "markdown",
   "metadata": {},
   "source": [
    "- Factorización:"
   ]
  },
  {
   "cell_type": "code",
   "execution_count": 19,
   "metadata": {},
   "outputs": [
    {
     "data": {
      "text/latex": [
       "$\\displaystyle \\left(x - y\\right) \\left(x + y\\right)$"
      ],
      "text/plain": [
       "(x - y)*(x + y)"
      ]
     },
     "metadata": {},
     "output_type": "display_data"
    }
   ],
   "source": [
    "factored_expr = sp.factor(x**2 - y**2)\n",
    "display(factored_expr)"
   ]
  },
  {
   "cell_type": "markdown",
   "metadata": {},
   "source": [
    "- Derivada:"
   ]
  },
  {
   "cell_type": "code",
   "execution_count": 20,
   "metadata": {},
   "outputs": [
    {
     "data": {
      "text/latex": [
       "$\\displaystyle 2 x$"
      ],
      "text/plain": [
       "2*x"
      ]
     },
     "metadata": {},
     "output_type": "display_data"
    }
   ],
   "source": [
    "derivative_expr = sp.diff(x**2 + y**2, x)  # Derivada parcial respecto a x\n",
    "display(derivative_expr)"
   ]
  },
  {
   "cell_type": "markdown",
   "metadata": {},
   "source": [
    "- Integral:"
   ]
  },
  {
   "cell_type": "code",
   "execution_count": 21,
   "metadata": {},
   "outputs": [
    {
     "data": {
      "text/latex": [
       "$\\displaystyle \\frac{x^{3}}{3}$"
      ],
      "text/plain": [
       "x**3/3"
      ]
     },
     "metadata": {},
     "output_type": "display_data"
    }
   ],
   "source": [
    "# Integrar una expresión\n",
    "integral_expr = sp.integrate(x**2, x)\n",
    "display(integral_expr)"
   ]
  },
  {
   "cell_type": "markdown",
   "metadata": {},
   "source": [
    "## 6. Algebra lineal\n",
    "\n",
    "- Matrices: SymPy puede manipular matrices y realizar operaciones comunes de álgebra lineal."
   ]
  },
  {
   "cell_type": "code",
   "execution_count": 22,
   "metadata": {},
   "outputs": [
    {
     "data": {
      "text/latex": [
       "$\\displaystyle \\left[\\begin{matrix}1 & 2\\\\3 & 4\\end{matrix}\\right]$"
      ],
      "text/plain": [
       "Matrix([\n",
       "[1, 2],\n",
       "[3, 4]])"
      ]
     },
     "metadata": {},
     "output_type": "display_data"
    },
    {
     "data": {
      "text/latex": [
       "$\\displaystyle \\left[\\begin{matrix}1 & 3\\\\2 & 4\\end{matrix}\\right]$"
      ],
      "text/plain": [
       "Matrix([\n",
       "[1, 3],\n",
       "[2, 4]])"
      ]
     },
     "metadata": {},
     "output_type": "display_data"
    },
    {
     "data": {
      "text/latex": [
       "$\\displaystyle \\left[\\begin{matrix}-2 & 1\\\\\\frac{3}{2} & - \\frac{1}{2}\\end{matrix}\\right]$"
      ],
      "text/plain": [
       "Matrix([\n",
       "[ -2,    1],\n",
       "[3/2, -1/2]])"
      ]
     },
     "metadata": {},
     "output_type": "display_data"
    }
   ],
   "source": [
    "# Crear una matriz\n",
    "matrix = sp.Matrix([[1, 2], [3, 4]])\n",
    "display(matrix)\n",
    "\n",
    "# Transpuesta de la matriz\n",
    "trans_matrix = matrix.T\n",
    "display(trans_matrix)\n",
    "\n",
    "# Inversa de la matriz\n",
    "inv_matrix = matrix.inv()\n",
    "display(inv_matrix)\n"
   ]
  },
  {
   "cell_type": "markdown",
   "metadata": {},
   "source": [
    "- Determinantes:"
   ]
  },
  {
   "cell_type": "code",
   "execution_count": 23,
   "metadata": {},
   "outputs": [
    {
     "data": {
      "text/latex": [
       "$\\displaystyle -2$"
      ],
      "text/plain": [
       "-2"
      ]
     },
     "metadata": {},
     "output_type": "display_data"
    }
   ],
   "source": [
    "# Determinante de la matriz\n",
    "det_matrix = matrix.det()\n",
    "display(det_matrix)\n"
   ]
  },
  {
   "cell_type": "markdown",
   "metadata": {},
   "source": [
    "- Resolución de Sistemas de Ecuaciones Lineales:"
   ]
  },
  {
   "cell_type": "code",
   "execution_count": 24,
   "metadata": {},
   "outputs": [
    {
     "data": {
      "text/plain": [
       "[]"
      ]
     },
     "metadata": {},
     "output_type": "display_data"
    }
   ],
   "source": [
    "# Sistema de ecuaciones\n",
    "eq1 = sp.Eq(x + y, 1)\n",
    "eq2 = sp.Eq(x - y, 2)\n",
    "\n",
    "# Resolver el sistema de ecuaciones\n",
    "solution = sp.solve((eq1, eq2), (x, y))\n",
    "display(solution)\n"
   ]
  },
  {
   "cell_type": "markdown",
   "metadata": {},
   "source": [
    "## 7. Resolución de Ecuaciones\n",
    "\n",
    "- Ecuaciones algebraicas:"
   ]
  },
  {
   "cell_type": "code",
   "execution_count": 25,
   "metadata": {},
   "outputs": [
    {
     "data": {
      "text/plain": [
       "[-2, 2]"
      ]
     },
     "metadata": {},
     "output_type": "display_data"
    }
   ],
   "source": [
    "# Ecuación algebraica\n",
    "eq = sp.Eq(x**2 - 4, 0)\n",
    "\n",
    "# Resolver la ecuación\n",
    "sol = sp.solve(eq, x)\n",
    "display(sol)\n"
   ]
  },
  {
   "cell_type": "markdown",
   "metadata": {},
   "source": [
    "- Ecuaciones Diferenciales: SymPy puede resolver ecuaciones diferenciales ordinarias"
   ]
  },
  {
   "cell_type": "code",
   "execution_count": 26,
   "metadata": {},
   "outputs": [
    {
     "data": {
      "text/latex": [
       "$\\displaystyle f{\\left(x \\right)} = \\left(C_{1} + C_{2} x\\right) e^{x}$"
      ],
      "text/plain": [
       "Eq(f(x), (C1 + C2*x)*exp(x))"
      ]
     },
     "metadata": {},
     "output_type": "display_data"
    }
   ],
   "source": [
    "# Ecuación diferencial\n",
    "f = sp.Function('f')\n",
    "deq = sp.Eq(f(x).diff(x, x) - 2*f(x).diff(x) + f(x), 0)\n",
    "\n",
    "# Resolver la ecuación diferencial\n",
    "sol_deq = sp.dsolve(deq)\n",
    "display(sol_deq)\n"
   ]
  },
  {
   "cell_type": "markdown",
   "metadata": {},
   "source": [
    "## 9. Evaluación de expresiones\n",
    "\n",
    "- Puedes evaluar expresiones simbólicas sustituyendo valores numéricos en las variables:"
   ]
  },
  {
   "cell_type": "code",
   "execution_count": null,
   "metadata": {},
   "outputs": [],
   "source": [
    "# Sustituir valores en una expresión\n",
    "expr = x**2 + 2*y\n",
    "evaluated_expr = expr.subs({x: 1, y: 2}) \n",
    "\n",
    "# Imprimir el resultado\n",
    "\n",
    "display(evaluated_expr)"
   ]
  },
  {
   "cell_type": "markdown",
   "metadata": {},
   "source": [
    "## 8. Ejercicios:\n",
    "\n",
    "1. \n",
    "\n",
    "![](ejercicio00.png)"
   ]
  },
  {
   "cell_type": "code",
   "execution_count": 32,
   "metadata": {},
   "outputs": [
    {
     "data": {
      "text/latex": [
       "$\\displaystyle \\frac{5 x^{3} + 2 x^{2} - 7 x + 6}{x^{2} + x - 6}$"
      ],
      "text/plain": [
       "(5*x**3 + 2*x**2 - 7*x + 6)/(x**2 + x - 6)"
      ]
     },
     "metadata": {},
     "output_type": "display_data"
    }
   ],
   "source": [
    "from sympy import symbols, simplify\n",
    "\n",
    "# 1. Definir las variables simbólicas\n",
    "x, y = symbols('x y')\n",
    "\n",
    "# 2. Crear la expresión\n",
    "expr1 = (2*x**2 - 4*x + 8) / (x - 2)\n",
    "expr2 = (3*x**2 + 6*x + 9) / (x + 3)\n",
    "\n",
    "# Combinar las dos expresiones\n",
    "expr = expr1 + expr2\n",
    "\n",
    "# 3. Simplificar la expresión\n",
    "simplified_expr = simplify(expr)\n",
    "\n",
    "# Mostrar la expresión simplificada\n",
    "display(simplified_expr)\n"
   ]
  },
  {
   "cell_type": "markdown",
   "metadata": {},
   "source": [
    "2.\n",
    " \n",
    "![ejericio02](ejercicio02.png)"
   ]
  },
  {
   "cell_type": "code",
   "execution_count": 28,
   "metadata": {},
   "outputs": [
    {
     "data": {
      "text/plain": [
       "{x: 39/11, y: -4/11}"
      ]
     },
     "metadata": {},
     "output_type": "display_data"
    }
   ],
   "source": [
    "# Tu código aquí\n",
    "x, y = sp.symbols('x y')\n",
    "eq1 = sp.Eq(2*x + 3*y, 6)\n",
    "eq2 = sp.Eq(x - 4*y, 5)\n",
    "solution = sp.solve((eq1, eq2), (x, y))\n",
    "display(solution)\n"
   ]
  },
  {
   "cell_type": "markdown",
   "metadata": {},
   "source": [
    "3. \n",
    "![ejercicio03](ejercicio03.png)"
   ]
  },
  {
   "cell_type": "code",
   "execution_count": 34,
   "metadata": {},
   "outputs": [
    {
     "name": "stdout",
     "output_type": "stream",
     "text": [
      "11\n"
     ]
    }
   ],
   "source": [
    "from sympy import symbols\n",
    "\n",
    "# 1. Definir las variables simbólicas\n",
    "x, y, z = symbols('x y z')\n",
    "\n",
    "# 2. Crear la expresión\n",
    "expr = 2*x**2 + 3*x*y - y**2 + z\n",
    "\n",
    "# 3. Evaluar la expresión para x = 4, y = -2, z = 7\n",
    "evaluated_expr = expr.subs({x: 4, y: -2, z: 7})\n",
    "\n",
    "# Mostrar el resultado\n",
    "print(evaluated_expr)\n"
   ]
  }
 ],
 "metadata": {
  "kernelspec": {
   "display_name": "Python 3",
   "language": "python",
   "name": "python3"
  },
  "language_info": {
   "codemirror_mode": {
    "name": "ipython",
    "version": 3
   },
   "file_extension": ".py",
   "mimetype": "text/x-python",
   "name": "python",
   "nbconvert_exporter": "python",
   "pygments_lexer": "ipython3",
   "version": "3.11.2"
  }
 },
 "nbformat": 4,
 "nbformat_minor": 2
}
