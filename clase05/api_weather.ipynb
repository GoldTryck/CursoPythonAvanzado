{
  "cells": [
    {
      "cell_type": "markdown",
      "metadata": {},
      "source": [
        "# Guía de Uso de la API de Clima con Python\n",
        "\n",
        "## 1. Introducción\n",
        "- **Objetivo:** Mostrar cómo usar la API de OpenWeatherMap para obtener datos del clima.\n",
        "- **Pre-requisitos:** Tener una cuenta en OpenWeatherMap y obtener una clave API gratuita.\n",
        "\n",
        "## 2. Configuración del Entorno\n",
        "\n",
        "- **Instalación de Paquetes:**\n",
        "  - Necesitarás `requests` para realizar solicitudes HTTP."
      ]
    },
    {
      "cell_type": "code",
      "execution_count": null,
      "metadata": {},
      "outputs": [],
      "source": [
        "!pip install requests python-dotenv"
      ]
    },
    {
      "cell_type": "markdown",
      "metadata": {},
      "source": [
        "## 3. Obtener la Clave API\n",
        "\n",
        "1. **Regístrate en [OpenWeatherMap](https://home.openweathermap.org/users/sign_up).**\n",
        "2. **Crea una cuenta y accede a tu panel de control.**\n",
        "3. **Obtén tu clave API desde el panel de control.**\n",
        "\n",
        "## 4. Uso de la API de OpenWeatherMap\n",
        "\n",
        "### 4.1. Configuración Inicial\n",
        "\n",
        "- **Importar Librerías y Configurar Parámetros:**"
      ]
    },
    {
      "cell_type": "code",
      "execution_count": 3,
      "metadata": {},
      "outputs": [
        {
          "name": "stdout",
          "output_type": "stream",
          "text": [
            "['8720d7c875d21198f21a6117af7538bf', 'http://api.openweathermap.org/data/2.5/weather']\n"
          ]
        }
      ],
      "source": [
        "# Importar módulo requests\n",
        "import requests\n",
        "# Clave API\n",
        "YOUR_API_KEY = 'SOMETHING'\n",
        "\n",
        "# URL base de la API\n",
        "API_URL = 'http://somewhere.com'\n",
        "\n",
        "# Importar variables de entorno de forma segura\n",
        "from dotenv import load_dotenv\n",
        "import os\n",
        "load_dotenv()\n",
        "\n",
        "api_key = os.getenv(\"API_KEY\")\n",
        "base_url = os.getenv(\"BASE_URL\")\n",
        "print([api_key, base_url])"
      ]
    },
    {
      "cell_type": "markdown",
      "metadata": {},
      "source": [
        "### 4.2. Obtener Datos del Clima\n",
        "\n",
        "- **Función para Obtener Clima por Ciudad:**"
      ]
    },
    {
      "cell_type": "code",
      "execution_count": 4,
      "metadata": {},
      "outputs": [],
      "source": [
        "def get_weather(city):\n",
        "    params = {\n",
        "        'q': city,\n",
        "        'appid': api_key,\n",
        "        'units': 'metric'  # Para obtener la temperatura en grados Celsius\n",
        "    }\n",
        "    response = requests.get(base_url, params=params)\n",
        "    data = response.json()\n",
        "\n",
        "    if data['cod'] != 200:\n",
        "        print(f\"Error: {data['message']}\")\n",
        "        return None\n",
        "\n",
        "    weather = {\n",
        "        'city': data['name'],\n",
        "        'temperature': data['main']['temp'],\n",
        "        'description': data['weather'][0]['description'],\n",
        "        'humidity': data['main']['humidity'],\n",
        "        'pressure': data['main']['pressure']\n",
        "    }\n",
        "    return weather"
      ]
    },
    {
      "cell_type": "markdown",
      "metadata": {},
      "source": [
        "- **Ejemplo de Uso:**"
      ]
    },
    {
      "cell_type": "code",
      "execution_count": 5,
      "metadata": {},
      "outputs": [
        {
          "name": "stdout",
          "output_type": "stream",
          "text": [
            "City: London\n",
            "Temperature: 27.28°C\n",
            "Weather: scattered clouds\n",
            "Humidity: 51%\n",
            "Pressure: 1010 hPa\n"
          ]
        }
      ],
      "source": [
        "# Variables\n",
        "city = 'London'\n",
        "weather = get_weather(city)\n",
        "\n",
        "# Verificación\n",
        "\n",
        "if weather:\n",
        "    print(f\"City: {weather['city']}\")\n",
        "    print(f\"Temperature: {weather['temperature']}°C\")\n",
        "    print(f\"Weather: {weather['description']}\")\n",
        "    print(f\"Humidity: {weather['humidity']}%\")\n",
        "    print(f\"Pressure: {weather['pressure']} hPa\")"
      ]
    },
    {
      "cell_type": "markdown",
      "metadata": {},
      "source": [
        "### 4.3. Obtener Datos del Clima por Coordenadas Geográficas\n",
        "\n",
        "- **Función para Obtener Clima por Coordenadas:**"
      ]
    },
    {
      "cell_type": "code",
      "execution_count": 6,
      "metadata": {},
      "outputs": [],
      "source": [
        "# Definir funcion get_weather_by_coordinates\n",
        "\n",
        "def get_weather_by_coordinates(lat, lon):\n",
        "\n",
        "    url = f'{base_url}?lat={lat}&lon={lon}&units=metric&appid={api_key}'\n",
        "    \n",
        "    response = requests.get(url)\n",
        "    data = response.json()\n",
        "\n",
        "    if data['cod'] != 200:\n",
        "        print(f\"Error: {data['message']}\")\n",
        "        return None\n",
        "\n",
        "    weather = {\n",
        "        'city': data['name'],\n",
        "        'temperature': data['main']['temp'],\n",
        "        'description': data['weather'][0]['description'],\n",
        "        'humidity': data['main']['humidity'],\n",
        "        'pressure': data['main']['pressure']\n",
        "    }\n",
        "    return weather"
      ]
    },
    {
      "cell_type": "markdown",
      "metadata": {},
      "source": [
        "- **Ejemplo de Uso:**"
      ]
    },
    {
      "cell_type": "code",
      "execution_count": 7,
      "metadata": {},
      "outputs": [
        {
          "name": "stdout",
          "output_type": "stream",
          "text": [
            "City: London\n",
            "Temperature: 27.42°C\n",
            "Weather: scattered clouds\n",
            "Humidity: 50%\n",
            "Pressure: 1010 hPa\n"
          ]
        }
      ],
      "source": [
        "# Varibales con las coordenadas y la respuesta de la api\n",
        "lat = 51.5074\n",
        "lon = -0.1278\n",
        "weather = get_weather_by_coordinates(lat, lon)\n",
        "\n",
        "# Verificar la respuesta de la api\n",
        "if weather:\n",
        "    print(f\"City: {weather['city']}\")\n",
        "    print(f\"Temperature: {weather['temperature']}°C\")\n",
        "    print(f\"Weather: {weather['description']}\")\n",
        "    print(f\"Humidity: {weather['humidity']}%\")\n",
        "    print(f\"Pressure: {weather['pressure']} hPa\")"
      ]
    },
    {
      "cell_type": "markdown",
      "metadata": {},
      "source": [
        "## 5. Ejercicios\n",
        "\n",
        "1. **Ejercicio 1:** Modificar la función para que devuelva los datos en grados Fahrenheit.\n",
        "2. **Ejercicio 2:** Crear una función que permita obtener el clima para una lista de ciudades y mostrar los resultados en un formato tabular.\n",
        "3. **Ejercicio 3:** Implementar un script que muestre el clima actual para la ciudad ingresada por el usuario.\n",
        "\n",
        "## 6. Conclusión\n",
        "- **Resumen:** Recapitulación de los pasos para utilizar la API de OpenWeatherMap.\n",
        "- **Recursos adicionales:** Enlaces a la [documentación de OpenWeatherMap](https://openweathermap.org/api) para más detalles y funcionalidades avanzadas."
      ]
    }
  ],
  "metadata": {
    "kernelspec": {
      "display_name": ".venv",
      "language": "python",
      "name": "python3"
    },
    "language_info": {
      "codemirror_mode": {
        "name": "ipython",
        "version": 3
      },
      "file_extension": ".py",
      "mimetype": "text/x-python",
      "name": "python",
      "nbconvert_exporter": "python",
      "pygments_lexer": "ipython3",
      "version": "3.11.2"
    }
  },
  "nbformat": 4,
  "nbformat_minor": 2
}
