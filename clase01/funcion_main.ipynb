{
 "cells": [
  {
   "cell_type": "markdown",
   "metadata": {},
   "source": [
    "# Función main en Python\n",
    "\n",
    "## Introducción\n",
    "\n",
    "En muchos lenguajes de programación, la función `main` es el punto de entrada principal del programa. Aunque Python no requiere una función main explícita, es una buena práctica organizar tu código de esta manera para mejorar la legibilidad y la estructura.\n",
    "\n",
    "## Estructura Básica de un script en Python con main\n",
    "La estructura típica de un programa en Python que utiliza una función main incluye definir la función main y un bloque de código para invocar esta función cuando el archivo se ejecuta directamente.\n",
    "\n",
    "```python\n",
    "def main():\n",
    "    # Código principal del programa\n",
    "    print(\"Hola, Mundo!\")\n",
    "\n",
    "if __name__ == \"__main__\":\n",
    "    main()\n",
    "```\n",
    "\n",
    "## Bloque if __name__ == \"__main__\":\n",
    "\n",
    "El bloque if __name__ == \"__main__\": asegura que el código dentro de él solo se ejecute cuando el archivo se ejecuta directamente, no cuando se importa como un módulo en otro archivo.\n",
    "\n",
    "- **`__name__`**: Una variable especial en Python que toma el valor \"__main__\" cuando el archivo se ejecuta directamente.\n",
    "\n",
    "- **`if __name__ == \"__main__\":`**: Verifica si el archivo se está ejecutando directamente y, si es así, ejecuta la función main.\n",
    "\n",
    "\n"
   ]
  },
  {
   "cell_type": "code",
   "execution_count": null,
   "metadata": {},
   "outputs": [],
   "source": [
    "# Definicion de funciones\n",
    "\n",
    "def suma(a,b):\n",
    "    return a + b\n",
    "\n",
    "def resta(a,b):\n",
    "    return a - b\n",
    "\n",
    "# definición del bloque principal main(), indica el flujo pricipal de eventos\n",
    "\n",
    "def main():\n",
    "    suma1 = suma(10,20)\n",
    "    suma2 = suma(40,80)\n",
    "    suma3 = suma(suma1, suma2)\n",
    "    resta1 = resta(suma2,suma1)\n",
    "\n",
    "    print(f'suma3 = {suma3}. resta1 = {resta1}')\n",
    "\n",
    "# Bloque if __name__=='__main__'\n",
    "if __name__=='__main__':\n",
    "    main()\n",
    "\n",
    "# Si se ejecuta el script directamente se llamará al bloque principal main().\n",
    "# Si se importa como módulo, no se ejecuta el bloque main(), solo se importan las funciones."
   ]
  },
  {
   "cell_type": "markdown",
   "metadata": {},
   "source": [
    "## Beneficios de Usar una Función main\n",
    "\n",
    "1. Organización: Mantiene el código organizado y fácil de leer.\n",
    "\n",
    "2. Reutilización: Permite reutilizar el código al importar el archivo como módulo en otros scripts.\n",
    "\n",
    "3. Control: Ofrece un mejor control sobre la ejecución del código, especialmente en programas grandes."
   ]
  }
 ],
 "metadata": {
  "language_info": {
   "name": "python"
  }
 },
 "nbformat": 4,
 "nbformat_minor": 2
}
