{
 "cells": [
  {
   "cell_type": "markdown",
   "metadata": {},
   "source": [
    "# Función main en Python\n",
    "\n",
    "## Introducción\n",
    "\n",
    "En muchos lenguajes de programación, la función `main` es el punto de entrada principal del programa. Aunque Python no requiere una función main explícita, es una buena práctica organizar tu código de esta manera para mejorar la legibilidad y la estructura.\n",
    "\n",
    "## Estructura Básica de un script en Python con main\n",
    "La estructura típica de un programa en Python que utiliza una función main incluye definir la función main y un bloque de código para invocar esta función cuando el archivo se ejecuta directamente.\n",
    "\n",
    "```python\n",
    "def main():\n",
    "    # Código principal del programa\n",
    "    print(\"Hola, Mundo!\")\n",
    "\n",
    "if __name__ == \"__main__\":\n",
    "    main()\n",
    "```\n",
    "\n",
    "## Bloque if __name__ == \"__main__\":\n",
    "\n",
    "El bloque if __name__ == \"__main__\": asegura que el código dentro de él solo se ejecute cuando el archivo se ejecuta directamente, no cuando se importa como un módulo en otro archivo.\n",
    "\n",
    "- **`__name__`**: Una variable especial en Python que toma el valor \"__main__\" cuando el archivo se ejecuta directamente.\n",
    "\n",
    "- **`if __name__ == \"__main__\":`**: Verifica si el archivo se está ejecutando directamente y, si es así, ejecuta la función main.\n",
    "\n",
    "\n"
   ]
  },
  {
   "cell_type": "code",
   "execution_count": null,
   "metadata": {},
   "outputs": [],
   "source": [
    "# Ejemplo de un script con main()\n",
    "\n",
    "def sumar(a, b):\n",
    "    return a + b\n",
    "\n",
    "def restar(a, b):\n",
    "    return a - b\n",
    "\n",
    "def main():\n",
    "    x = 5\n",
    "    y = 3\n",
    "    print(f\"La suma de {x} y {y} es {sumar(x, y)}\")\n",
    "    print(f\"La resta de {x} y {y} es {restar(x, y)}\")\n",
    "\n",
    "if __name__ == \"__main__\":\n",
    "    main()\n"
   ]
  },
  {
   "cell_type": "markdown",
   "metadata": {},
   "source": [
    "## Beneficios de Usar una Función main\n",
    "\n",
    "1. Organización: Mantiene el código organizado y fácil de leer.\n",
    "\n",
    "2. Reutilización: Permite reutilizar el código al importar el archivo como módulo en otros scripts.\n",
    "\n",
    "3. Control: Ofrece un mejor control sobre la ejecución del código, especialmente en programas grandes."
   ]
  }
 ],
 "metadata": {
  "language_info": {
   "name": "python"
  }
 },
 "nbformat": 4,
 "nbformat_minor": 2
}
