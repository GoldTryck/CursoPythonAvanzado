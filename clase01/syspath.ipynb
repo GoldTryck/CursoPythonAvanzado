{
 "cells": [
  {
   "cell_type": "markdown",
   "metadata": {},
   "source": [
    "# Módulo `sys.path` en Python\n",
    "\n",
    "## Introducción\n",
    "\n",
    "`sys.path` es una lista de cadenas que especifican los directorios que Python busca para encontrar módulos y paquetes cuando se usa una instrucción import. Esta lista se inicializa desde las siguientes fuentes:\n",
    "\n",
    "1. El directorio que contiene el programa en ejecución.\n",
    "2. PYTHONPATH (una variable de entorno que contiene una lista de rutas).\n",
    "3. Las rutas de instalación por defecto.\n",
    "\n",
    "Manipular sys.path te permite modificar temporalmente las rutas de búsqueda de módulos, lo que puede ser útil en situaciones de desarrollo y depuración.\n",
    "\n",
    "## Importar el módulo `sys.path`:"
   ]
  },
  {
   "cell_type": "code",
   "execution_count": 2,
   "metadata": {},
   "outputs": [
    {
     "data": {
      "text/plain": [
       "['/Users/usr/Documents/PROTECO/CursoPythonAvanzado/clase01',\n",
       " '/Library/Frameworks/Python.framework/Versions/3.11/lib/python311.zip',\n",
       " '/Library/Frameworks/Python.framework/Versions/3.11/lib/python3.11',\n",
       " '/Library/Frameworks/Python.framework/Versions/3.11/lib/python3.11/lib-dynload',\n",
       " '',\n",
       " '/Users/usr/Library/Python/3.11/lib/python/site-packages',\n",
       " '/Library/Frameworks/Python.framework/Versions/3.11/lib/python3.11/site-packages']"
      ]
     },
     "execution_count": 2,
     "metadata": {},
     "output_type": "execute_result"
    }
   ],
   "source": [
    "# Importar módulo sys\n",
    "import sys\n",
    "# from sys import path\n",
    "\n",
    "# Imprimir sys.path\n",
    "sys.path\n"
   ]
  },
  {
   "cell_type": "markdown",
   "metadata": {},
   "source": [
    "## Añadir un nuevo directorio a `sys.path`:\n",
    "\n",
    "Si necesitas que Python busque módulos en un directorio específico que no está en `sys.path`, puedes añadirlo manualmente:"
   ]
  },
  {
   "cell_type": "code",
   "execution_count": 4,
   "metadata": {},
   "outputs": [],
   "source": [
    "# Crear variable con la ruta a nuestro módulo:\n",
    "nuevo_dir = '/Users/usr/mi_paquete_py'\n",
    "\n",
    "lista_verfificacion=sys.path\n",
    "# Validar que no se encuentre aún en el path:\n",
    "if nuevo_dir not in lista_verfificacion:\n",
    "    # Agreagar el directorio al path:\n",
    "    sys.path.append(nuevo_dir) "
   ]
  },
  {
   "cell_type": "markdown",
   "metadata": {},
   "source": [
    "Ahora que hemos agregado nuestro nuevo directorio podemos importar los módulos que contenga:"
   ]
  },
  {
   "cell_type": "code",
   "execution_count": 6,
   "metadata": {},
   "outputs": [
    {
     "name": "stdout",
     "output_type": "stream",
     "text": [
      "15\n"
     ]
    }
   ],
   "source": [
    "# Intentar importar el modulo añadido al path de python\n",
    "try:\n",
    "    import modulo01 \n",
    "# Capturar la excepción en caso de no poder resolverse la importación\n",
    "except:\n",
    "    print('no fue posible importar el modulo')\n",
    "\n",
    "# Uso de la función suma del módulo modulo1\n",
    "\n",
    "print(suma(5,10))"
   ]
  },
  {
   "cell_type": "markdown",
   "metadata": {},
   "source": [
    "## Uso de PYTHONPATH\n",
    "\n",
    "Además de modificar `sys.path` en tiempo de ejecución, puedes establecer la variable de entorno `PYTHONPATH` para que incluya rutas adicionales. Esto se hace fuera del programa Python y afecta a todas las ejecuciones del intérprete de Python en ese entorno.\n",
    "\n",
    "- En Linux/macOS:\n",
    "\n",
    "    ```zsh\n",
    "\n",
    "    export PYTHONPATH=/ruta/al/directorio:/otra/ruta\n",
    "\n",
    "    ```\n",
    "- En Windows\n",
    "\n",
    "    ```powershell\n",
    "    set PYTHONPATH=C:\\ruta\\al\\directorio;C:\\otra\\ruta\n",
    "    ```\n"
   ]
  },
  {
   "cell_type": "markdown",
   "metadata": {},
   "source": [
    "## Notas adicionales\n",
    "\n",
    "- **Persistencia**: Los cambios en `sys.path` realizados durante la ejecución de un programa no son persistentes. Para cambios permanentes, usa `PYTHONPATH` o modifica los archivos de configuración de tu entorno Python.\n",
    "\n",
    "- **Manejo de Múltiples Directorios**: Puedes añadir varios directorios a `sys.path` utilizando la variable de entorno PYTHONPATH, separando cada ruta con el carácter adecuado para tu sistema operativo (dos puntos : en Unix y punto y coma ; en Windows).\n",
    "\n",
    "- **Orden de Búsqueda**: Python buscará los módulos en los directorios en el orden en que aparecen en `sys.path`. Esto significa que si hay módulos con el mismo nombre en diferentes directorios, se importará el primero que se encuentre."
   ]
  }
 ],
 "metadata": {
  "kernelspec": {
   "display_name": "Python 3",
   "language": "python",
   "name": "python3"
  },
  "language_info": {
   "codemirror_mode": {
    "name": "ipython",
    "version": 3
   },
   "file_extension": ".py",
   "mimetype": "text/x-python",
   "name": "python",
   "nbconvert_exporter": "python",
   "pygments_lexer": "ipython3",
   "version": "3.11.2"
  }
 },
 "nbformat": 4,
 "nbformat_minor": 2
}
